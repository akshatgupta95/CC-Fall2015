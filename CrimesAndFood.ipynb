{
 "metadata": {
  "name": "",
  "signature": "sha256:b248d282caea4cfd659fcb455210ef3541f9dc3d2c61ba6c7b2a2ccb277e33df"
 },
 "nbformat": 3,
 "nbformat_minor": 0,
 "worksheets": [
  {
   "cells": [
    {
     "cell_type": "code",
     "collapsed": false,
     "input": [
      "from geopy.geocoders import Nominatim\n",
      "from geopy.distance import vincenty\n",
      "import pandas as pd"
     ],
     "language": "python",
     "metadata": {},
     "outputs": [],
     "prompt_number": 19
    },
    {
     "cell_type": "code",
     "collapsed": false,
     "input": [
      "food_df = pd.read_csv('Desktop/Food_Inspections.csv')\n",
      "food_df['Results'] = food_df['Results'].replace('Pass', 1)\n",
      "food_df['Results'] = food_df['Results'].replace('Fail', 0)\n",
      "food_df['Results'] = food_df['Results'].replace('No Entry', -1)\n",
      "\n",
      "food_df['Risk'] = food_df['Risk'].replace('Risk 3 (Low)', 1)\n",
      "food_df['Risk'] = food_df['Risk'].replace('Risk 2 (Medium)', 2)\n",
      "food_df['Risk'] = food_df['Risk'].replace('Risk 1 (High)', 3)\n",
      "\n",
      "food_df = food_df[food_df.Results != -1]\n",
      "food_df = food_df[food_df.Results != 'Pass w/ Conditions']\n",
      "food_df = food_df[food_df.Results != 'Out of Business']\n",
      "food_df = food_df[food_df.Results != 'Not Ready']\n",
      "food_df = food_df[food_df.Results != 'Business Not Located']\n",
      "food_df = food_df[food_df.Risk != 'All']\n",
      "\n",
      "food_df = food_df[['AKA Name', 'License #', 'Risk', 'Location']]"
     ],
     "language": "python",
     "metadata": {},
     "outputs": [],
     "prompt_number": 47
    },
    {
     "cell_type": "code",
     "collapsed": false,
     "input": [
      "crimes_df = pd.read_csv('Desktop/CrimesDataset.csv', sep=',', low_memory=False)\n",
      "crimes_df = crimes_df[['ID', 'Primary Type', 'Location']]"
     ],
     "language": "python",
     "metadata": {},
     "outputs": [],
     "prompt_number": 55
    },
    {
     "cell_type": "code",
     "collapsed": false,
     "input": [
      "crimes_df.head()"
     ],
     "language": "python",
     "metadata": {},
     "outputs": [
      {
       "html": [
        "<div style=\"max-height:1000px;max-width:1500px;overflow:auto;\">\n",
        "<table border=\"1\" class=\"dataframe\">\n",
        "  <thead>\n",
        "    <tr style=\"text-align: right;\">\n",
        "      <th></th>\n",
        "      <th>ID</th>\n",
        "      <th>Primary Type</th>\n",
        "      <th>Location</th>\n",
        "    </tr>\n",
        "  </thead>\n",
        "  <tbody>\n",
        "    <tr>\n",
        "      <th>0</th>\n",
        "      <td> 10307856</td>\n",
        "      <td>                BATTERY</td>\n",
        "      <td>  (41.873807522, -87.69445629)</td>\n",
        "    </tr>\n",
        "    <tr>\n",
        "      <th>1</th>\n",
        "      <td> 10307316</td>\n",
        "      <td>                  THEFT</td>\n",
        "      <td> (41.780615555, -87.714143203)</td>\n",
        "    </tr>\n",
        "    <tr>\n",
        "      <th>2</th>\n",
        "      <td> 10307111</td>\n",
        "      <td>                ASSAULT</td>\n",
        "      <td> (41.953866494, -87.712237523)</td>\n",
        "    </tr>\n",
        "    <tr>\n",
        "      <th>3</th>\n",
        "      <td> 10307125</td>\n",
        "      <td> PUBLIC PEACE VIOLATION</td>\n",
        "      <td> (41.890051047, -87.628829294)</td>\n",
        "    </tr>\n",
        "    <tr>\n",
        "      <th>4</th>\n",
        "      <td> 10307363</td>\n",
        "      <td>                  THEFT</td>\n",
        "      <td> (41.765162688, -87.624896894)</td>\n",
        "    </tr>\n",
        "  </tbody>\n",
        "</table>\n",
        "</div>"
       ],
       "metadata": {},
       "output_type": "pyout",
       "prompt_number": 57,
       "text": [
        "         ID            Primary Type                       Location\n",
        "0  10307856                 BATTERY   (41.873807522, -87.69445629)\n",
        "1  10307316                   THEFT  (41.780615555, -87.714143203)\n",
        "2  10307111                 ASSAULT  (41.953866494, -87.712237523)\n",
        "3  10307125  PUBLIC PEACE VIOLATION  (41.890051047, -87.628829294)\n",
        "4  10307363                   THEFT  (41.765162688, -87.624896894)"
       ]
      }
     ],
     "prompt_number": 57
    },
    {
     "cell_type": "code",
     "collapsed": false,
     "input": [
      "food_df.head()"
     ],
     "language": "python",
     "metadata": {},
     "outputs": [
      {
       "html": [
        "<div style=\"max-height:1000px;max-width:1500px;overflow:auto;\">\n",
        "<table border=\"1\" class=\"dataframe\">\n",
        "  <thead>\n",
        "    <tr style=\"text-align: right;\">\n",
        "      <th></th>\n",
        "      <th>AKA Name</th>\n",
        "      <th>License #</th>\n",
        "      <th>Risk</th>\n",
        "      <th>Location</th>\n",
        "    </tr>\n",
        "  </thead>\n",
        "  <tbody>\n",
        "    <tr>\n",
        "      <th>0</th>\n",
        "      <td>    STARBUCKS COFFEE</td>\n",
        "      <td> 2385999</td>\n",
        "      <td> 1</td>\n",
        "      <td> (41.93011062600186, -87.78582350333859)</td>\n",
        "    </tr>\n",
        "    <tr>\n",
        "      <th>1</th>\n",
        "      <td>    STARBUCKS COFFEE</td>\n",
        "      <td> 2385998</td>\n",
        "      <td> 2</td>\n",
        "      <td> (41.93011062600186, -87.78582350333859)</td>\n",
        "    </tr>\n",
        "    <tr>\n",
        "      <th>2</th>\n",
        "      <td>          MC DONALDS</td>\n",
        "      <td> 1517920</td>\n",
        "      <td> 2</td>\n",
        "      <td>  (41.751020470681915, -87.615102245534)</td>\n",
        "    </tr>\n",
        "    <tr>\n",
        "      <th>3</th>\n",
        "      <td> MACIAS PRODUCE INC.</td>\n",
        "      <td> 1648017</td>\n",
        "      <td> 3</td>\n",
        "      <td> (41.73273359494837, -87.55117278355699)</td>\n",
        "    </tr>\n",
        "    <tr>\n",
        "      <th>4</th>\n",
        "      <td>       TOWN  KITCHEN</td>\n",
        "      <td> 2432155</td>\n",
        "      <td> 3</td>\n",
        "      <td> (41.85528170377401, -87.63199264229414)</td>\n",
        "    </tr>\n",
        "  </tbody>\n",
        "</table>\n",
        "</div>"
       ],
       "metadata": {},
       "output_type": "pyout",
       "prompt_number": 58,
       "text": [
        "              AKA Name  License # Risk  \\\n",
        "0     STARBUCKS COFFEE    2385999    1   \n",
        "1     STARBUCKS COFFEE    2385998    2   \n",
        "2           MC DONALDS    1517920    2   \n",
        "3  MACIAS PRODUCE INC.    1648017    3   \n",
        "4        TOWN  KITCHEN    2432155    3   \n",
        "\n",
        "                                  Location  \n",
        "0  (41.93011062600186, -87.78582350333859)  \n",
        "1  (41.93011062600186, -87.78582350333859)  \n",
        "2   (41.751020470681915, -87.615102245534)  \n",
        "3  (41.73273359494837, -87.55117278355699)  \n",
        "4  (41.85528170377401, -87.63199264229414)  "
       ]
      }
     ],
     "prompt_number": 58
    },
    {
     "cell_type": "code",
     "collapsed": false,
     "input": [
      "geolocator = Nominatim()\n",
      "print(vincenty(food_df.Location[0], crimes_df.Location[0]).miles)"
     ],
     "language": "python",
     "metadata": {},
     "outputs": [
      {
       "output_type": "stream",
       "stream": "stdout",
       "text": [
        "6.10674479979\n"
       ]
      }
     ],
     "prompt_number": 60
    },
    {
     "cell_type": "code",
     "collapsed": false,
     "input": [],
     "language": "python",
     "metadata": {},
     "outputs": [],
     "prompt_number": 61
    },
    {
     "cell_type": "code",
     "collapsed": false,
     "input": [],
     "language": "python",
     "metadata": {},
     "outputs": [],
     "prompt_number": 60
    },
    {
     "cell_type": "code",
     "collapsed": false,
     "input": [],
     "language": "python",
     "metadata": {},
     "outputs": []
    }
   ],
   "metadata": {}
  }
 ]
}