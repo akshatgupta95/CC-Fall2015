{
 "metadata": {
  "name": "",
  "signature": "sha256:7c6a9b6fbc70b85becb0d7a8eafaf4bf56103823155f1514e58cb2f8fd68f77e"
 },
 "nbformat": 3,
 "nbformat_minor": 0,
 "worksheets": [
  {
   "cells": [
    {
     "cell_type": "code",
     "collapsed": false,
     "input": [
      "from geopy.geocoders import Nominatim\n",
      "from geopy.distance import vincenty\n",
      "import pandas as pd\n",
      "geolocator = Nominatim()\n",
      "import numpy as np"
     ],
     "language": "python",
     "metadata": {},
     "outputs": [],
     "prompt_number": 8
    },
    {
     "cell_type": "code",
     "collapsed": false,
     "input": [
      "food_df = pd.read_csv('/Users/Akshat/Desktop/Food_Inspections.csv')\n",
      "food_df['Results'] = food_df['Results'].replace('Pass', 1)\n",
      "food_df['Results'] = food_df['Results'].replace('Fail', 0)\n",
      "food_df['Results'] = food_df['Results'].replace('No Entry', -1)\n",
      "\n",
      "food_df['Risk'] = food_df['Risk'].replace('Risk 3 (Low)', 1)\n",
      "food_df['Risk'] = food_df['Risk'].replace('Risk 2 (Medium)', 2)\n",
      "food_df['Risk'] = food_df['Risk'].replace('Risk 1 (High)', 3)\n",
      "\n",
      "food_df = food_df[food_df.Results != -1]\n",
      "food_df = food_df[food_df.Results != 'Pass w/ Conditions']\n",
      "food_df = food_df[food_df.Results != 'Out of Business']\n",
      "food_df = food_df[food_df.Results != 'Not Ready']\n",
      "food_df = food_df[food_df.Results != 'Business Not Located']\n",
      "food_df = food_df[food_df.Risk != 'All']\n",
      "\n",
      "food_df = food_df[['AKA Name', 'License #', 'Risk', 'Location']]"
     ],
     "language": "python",
     "metadata": {},
     "outputs": [],
     "prompt_number": 61
    },
    {
     "cell_type": "code",
     "collapsed": false,
     "input": [
      "crimes_df = pd.read_csv('/Users/Akshat/Desktop/CrimesDataset.csv', sep=',', low_memory=False)\n",
      "crimes_df = crimes_df[['ID', 'Primary Type', 'Location']]\n",
      "food_df = food_df[:1000]\n",
      "crimes_df = crimes_df[:1000]"
     ],
     "language": "python",
     "metadata": {},
     "outputs": [],
     "prompt_number": 62
    },
    {
     "cell_type": "code",
     "collapsed": false,
     "input": [
      "# CHICAGO BORDER COORDS\n",
      "K = 1\n",
      "ADD_LAT = Decimal(K/69.10875)\n",
      "ADD_LONG = Decimal(K/55.2428)\n",
      "top_left = (str(41.9786), str(-87.9047))\n",
      "top_right = (str(42.022531), str(-87.6653352))\n",
      "bottom_left = (str(41.6566986), str( -87.9070004))\n",
      "bottom_right = (str(41.6375352), str(-87.5383768))\n",
      "location = geolocator.reverse(top_left)\n",
      "print (location.address)"
     ],
     "language": "python",
     "metadata": {},
     "outputs": [
      {
       "output_type": "stream",
       "stream": "stdout",
       "text": [
        "O'Hare Arrivals, Chicago, Cook County, Illinois, 60666, United States of America\n"
       ]
      }
     ],
     "prompt_number": 63
    },
    {
     "cell_type": "code",
     "collapsed": false,
     "input": [
      "from decimal import *\n",
      "squares = {}\n",
      "def search(latlong, dataset):\n",
      "    index_open = (latlong.index('('))\n",
      "    index_comma = (latlong.index(','))\n",
      "    lat = Decimal(((latlong[index_open+1:index_comma])))\n",
      "    lon = Decimal((latlong[index_comma+2:len(latlong)-1]))\n",
      "    insert_in_map = True\n",
      "    curr_top_lat = Decimal(top_left[0])\n",
      "    while (lat > curr_top_lat):\n",
      "#         print (\"LAT : \", lat, curr_top_lat)\n",
      "        if (lat > bottom_left[0]):\n",
      "            insert_in_map = False\n",
      "            break\n",
      "        curr_top_lat += ADD_LAT\n",
      "    curr_top_lon = Decimal(top_left[1])\n",
      "    while (lon > curr_top_lon and insert_in_map == True):\n",
      "        print (\"LON : \", lon, curr_top_lon)\n",
      "        if (lon > top_right[1]):\n",
      "            insert_in_map = False\n",
      "            break\n",
      "        curr_top_lon += ADD_LONG\n",
      "    if (insert_in_map == True):\n",
      "            if (dataset == \"food\"):\n",
      "                squares[str([str(curr_top_lat), str(curr_top_lon)])][0] = squares.get(str([str(curr_top_lat), str(curr_top_lon)]), [0,0])[0] + 1\n",
      "            else:\n",
      "                squares[str([str(curr_top_lat), str(curr_top_lon)])][1] = squares.get(str([str(curr_top_lat), str(curr_top_lon)]), [0,0])[1] + 1\n",
      "    \n",
      "\n",
      "count = 0\n",
      "for index, row in food_df.iterrows():\n",
      "    latlong = row['Location']\n",
      "    search(latlong, \"food\")\n",
      "    count += 1\n",
      "    if (count == 50):\n",
      "        break"
     ],
     "language": "python",
     "metadata": {},
     "outputs": [
      {
       "output_type": "stream",
       "stream": "stdout",
       "text": [
        "('LON : ', Decimal('-87.78582350333859'), Decimal('-87.9047'))\n",
        "('LON : ', Decimal('-87.78582350333859'), Decimal('-87.88659809350720818129087952'))\n",
        "('LON : ', Decimal('-87.78582350333859'), Decimal('-87.86849618701441636258175904'))\n",
        "('LON : ', Decimal('-87.78582350333859'), Decimal('-87.85039428052162454387263856'))\n",
        "('LON : ', Decimal('-87.78582350333859'), Decimal('-87.83229237402883272516351808'))\n",
        "('LON : ', Decimal('-87.78582350333859'), Decimal('-87.81419046753604090645439760'))\n",
        "('LON : ', Decimal('-87.78582350333859'), Decimal('-87.79608856104324908774527712'))\n"
       ]
      },
      {
       "ename": "KeyError",
       "evalue": "\"['41.9786', '-87.77798665455045726903615664']\"",
       "output_type": "pyerr",
       "traceback": [
        "\u001b[0;31m---------------------------------------------------------------------------\u001b[0m\n\u001b[0;31mKeyError\u001b[0m                                  Traceback (most recent call last)",
        "\u001b[0;32m<ipython-input-79-69791cd96bc5>\u001b[0m in \u001b[0;36m<module>\u001b[0;34m()\u001b[0m\n\u001b[1;32m     31\u001b[0m \u001b[0;32mfor\u001b[0m \u001b[0mindex\u001b[0m\u001b[0;34m,\u001b[0m \u001b[0mrow\u001b[0m \u001b[0;32min\u001b[0m \u001b[0mfood_df\u001b[0m\u001b[0;34m.\u001b[0m\u001b[0miterrows\u001b[0m\u001b[0;34m(\u001b[0m\u001b[0;34m)\u001b[0m\u001b[0;34m:\u001b[0m\u001b[0;34m\u001b[0m\u001b[0m\n\u001b[1;32m     32\u001b[0m     \u001b[0mlatlong\u001b[0m \u001b[0;34m=\u001b[0m \u001b[0mrow\u001b[0m\u001b[0;34m[\u001b[0m\u001b[0;34m'Location'\u001b[0m\u001b[0;34m]\u001b[0m\u001b[0;34m\u001b[0m\u001b[0m\n\u001b[0;32m---> 33\u001b[0;31m     \u001b[0msearch\u001b[0m\u001b[0;34m(\u001b[0m\u001b[0mlatlong\u001b[0m\u001b[0;34m,\u001b[0m \u001b[0;34m\"food\"\u001b[0m\u001b[0;34m)\u001b[0m\u001b[0;34m\u001b[0m\u001b[0m\n\u001b[0m\u001b[1;32m     34\u001b[0m     \u001b[0mcount\u001b[0m \u001b[0;34m+=\u001b[0m \u001b[0;36m1\u001b[0m\u001b[0;34m\u001b[0m\u001b[0m\n\u001b[1;32m     35\u001b[0m     \u001b[0;32mif\u001b[0m \u001b[0;34m(\u001b[0m\u001b[0mcount\u001b[0m \u001b[0;34m==\u001b[0m \u001b[0;36m50\u001b[0m\u001b[0;34m)\u001b[0m\u001b[0;34m:\u001b[0m\u001b[0;34m\u001b[0m\u001b[0m\n",
        "\u001b[0;32m<ipython-input-79-69791cd96bc5>\u001b[0m in \u001b[0;36msearch\u001b[0;34m(latlong, dataset)\u001b[0m\n\u001b[1;32m     23\u001b[0m     \u001b[0;32mif\u001b[0m \u001b[0;34m(\u001b[0m\u001b[0minsert_in_map\u001b[0m \u001b[0;34m==\u001b[0m \u001b[0mTrue\u001b[0m\u001b[0;34m)\u001b[0m\u001b[0;34m:\u001b[0m\u001b[0;34m\u001b[0m\u001b[0m\n\u001b[1;32m     24\u001b[0m             \u001b[0;32mif\u001b[0m \u001b[0;34m(\u001b[0m\u001b[0mdataset\u001b[0m \u001b[0;34m==\u001b[0m \u001b[0;34m\"food\"\u001b[0m\u001b[0;34m)\u001b[0m\u001b[0;34m:\u001b[0m\u001b[0;34m\u001b[0m\u001b[0m\n\u001b[0;32m---> 25\u001b[0;31m                 \u001b[0msquares\u001b[0m\u001b[0;34m[\u001b[0m\u001b[0mstr\u001b[0m\u001b[0;34m(\u001b[0m\u001b[0;34m[\u001b[0m\u001b[0mstr\u001b[0m\u001b[0;34m(\u001b[0m\u001b[0mcurr_top_lat\u001b[0m\u001b[0;34m)\u001b[0m\u001b[0;34m,\u001b[0m \u001b[0mstr\u001b[0m\u001b[0;34m(\u001b[0m\u001b[0mcurr_top_lon\u001b[0m\u001b[0;34m)\u001b[0m\u001b[0;34m]\u001b[0m\u001b[0;34m)\u001b[0m\u001b[0;34m]\u001b[0m\u001b[0;34m[\u001b[0m\u001b[0;36m0\u001b[0m\u001b[0;34m]\u001b[0m \u001b[0;34m=\u001b[0m \u001b[0msquares\u001b[0m\u001b[0;34m.\u001b[0m\u001b[0mget\u001b[0m\u001b[0;34m(\u001b[0m\u001b[0mstr\u001b[0m\u001b[0;34m(\u001b[0m\u001b[0;34m[\u001b[0m\u001b[0mstr\u001b[0m\u001b[0;34m(\u001b[0m\u001b[0mcurr_top_lat\u001b[0m\u001b[0;34m)\u001b[0m\u001b[0;34m,\u001b[0m \u001b[0mstr\u001b[0m\u001b[0;34m(\u001b[0m\u001b[0mcurr_top_lon\u001b[0m\u001b[0;34m)\u001b[0m\u001b[0;34m]\u001b[0m\u001b[0;34m)\u001b[0m\u001b[0;34m,\u001b[0m \u001b[0;34m[\u001b[0m\u001b[0;36m0\u001b[0m\u001b[0;34m,\u001b[0m\u001b[0;36m0\u001b[0m\u001b[0;34m]\u001b[0m\u001b[0;34m)\u001b[0m\u001b[0;34m[\u001b[0m\u001b[0;36m0\u001b[0m\u001b[0;34m]\u001b[0m \u001b[0;34m+\u001b[0m \u001b[0;36m1\u001b[0m\u001b[0;34m\u001b[0m\u001b[0m\n\u001b[0m\u001b[1;32m     26\u001b[0m             \u001b[0;32melse\u001b[0m\u001b[0;34m:\u001b[0m\u001b[0;34m\u001b[0m\u001b[0m\n\u001b[1;32m     27\u001b[0m                 \u001b[0msquares\u001b[0m\u001b[0;34m[\u001b[0m\u001b[0mstr\u001b[0m\u001b[0;34m(\u001b[0m\u001b[0;34m[\u001b[0m\u001b[0mstr\u001b[0m\u001b[0;34m(\u001b[0m\u001b[0mcurr_top_lat\u001b[0m\u001b[0;34m)\u001b[0m\u001b[0;34m,\u001b[0m \u001b[0mstr\u001b[0m\u001b[0;34m(\u001b[0m\u001b[0mcurr_top_lon\u001b[0m\u001b[0;34m)\u001b[0m\u001b[0;34m]\u001b[0m\u001b[0;34m)\u001b[0m\u001b[0;34m]\u001b[0m\u001b[0;34m[\u001b[0m\u001b[0;36m1\u001b[0m\u001b[0;34m]\u001b[0m \u001b[0;34m=\u001b[0m \u001b[0msquares\u001b[0m\u001b[0;34m.\u001b[0m\u001b[0mget\u001b[0m\u001b[0;34m(\u001b[0m\u001b[0mstr\u001b[0m\u001b[0;34m(\u001b[0m\u001b[0;34m[\u001b[0m\u001b[0mstr\u001b[0m\u001b[0;34m(\u001b[0m\u001b[0mcurr_top_lat\u001b[0m\u001b[0;34m)\u001b[0m\u001b[0;34m,\u001b[0m \u001b[0mstr\u001b[0m\u001b[0;34m(\u001b[0m\u001b[0mcurr_top_lon\u001b[0m\u001b[0;34m)\u001b[0m\u001b[0;34m]\u001b[0m\u001b[0;34m)\u001b[0m\u001b[0;34m,\u001b[0m \u001b[0;34m[\u001b[0m\u001b[0;36m0\u001b[0m\u001b[0;34m,\u001b[0m\u001b[0;36m0\u001b[0m\u001b[0;34m]\u001b[0m\u001b[0;34m)\u001b[0m\u001b[0;34m[\u001b[0m\u001b[0;36m1\u001b[0m\u001b[0;34m]\u001b[0m \u001b[0;34m+\u001b[0m \u001b[0;36m1\u001b[0m\u001b[0;34m\u001b[0m\u001b[0m\n",
        "\u001b[0;31mKeyError\u001b[0m: \"['41.9786', '-87.77798665455045726903615664']\""
       ]
      }
     ],
     "prompt_number": 79
    },
    {
     "cell_type": "code",
     "collapsed": false,
     "input": [
      "squares"
     ],
     "language": "python",
     "metadata": {},
     "outputs": [
      {
       "metadata": {},
       "output_type": "pyout",
       "prompt_number": 60,
       "text": [
        "{}"
       ]
      }
     ],
     "prompt_number": 60
    },
    {
     "cell_type": "code",
     "collapsed": false,
     "input": [],
     "language": "python",
     "metadata": {},
     "outputs": []
    }
   ],
   "metadata": {}
  }
 ]
}