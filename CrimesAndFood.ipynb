{
 "metadata": {
  "name": "",
  "signature": "sha256:e6733f31d11a3914a7c107afc5f1e8f2093a89555529d2c75b77d77059f749e0"
 },
 "nbformat": 3,
 "nbformat_minor": 0,
 "worksheets": [
  {
   "cells": [
    {
     "cell_type": "code",
     "collapsed": false,
     "input": [
      "from geopy.geocoders import Nominatim\n",
      "from geopy.distance import vincenty\n",
      "import pandas as pd\n",
      "geolocator = Nominatim()\n",
      "import numpy as np"
     ],
     "language": "python",
     "metadata": {},
     "outputs": [],
     "prompt_number": 40
    },
    {
     "cell_type": "code",
     "collapsed": false,
     "input": [
      "food_df = pd.read_csv('/Users/Akshat/Desktop/Food_Inspections.csv')\n",
      "food_df['Results'] = food_df['Results'].replace('Pass', 1)\n",
      "food_df['Results'] = food_df['Results'].replace('Fail', 0)\n",
      "food_df['Results'] = food_df['Results'].replace('No Entry', -1)\n",
      "\n",
      "food_df['Risk'] = food_df['Risk'].replace('Risk 3 (Low)', 1)\n",
      "food_df['Risk'] = food_df['Risk'].replace('Risk 2 (Medium)', 2)\n",
      "food_df['Risk'] = food_df['Risk'].replace('Risk 1 (High)', 3)\n",
      "\n",
      "food_df = food_df[food_df.Results != -1]\n",
      "food_df = food_df[food_df.Results != 'Pass w/ Conditions']\n",
      "food_df = food_df[food_df.Results != 'Out of Business']\n",
      "food_df = food_df[food_df.Results != 'Not Ready']\n",
      "food_df = food_df[food_df.Results != 'Business Not Located']\n",
      "food_df = food_df[food_df.Risk != 'All']\n",
      "\n",
      "food_df = food_df[['AKA Name', 'License #', 'Risk', 'Location']]"
     ],
     "language": "python",
     "metadata": {},
     "outputs": [],
     "prompt_number": 5
    },
    {
     "cell_type": "code",
     "collapsed": false,
     "input": [
      "crimes_df = pd.read_csv('/Users/Akshat/Desktop/CrimesDataset.csv', sep=',', low_memory=False)\n",
      "crimes_df = crimes_df[['ID', 'Primary Type', 'Location']]"
     ],
     "language": "python",
     "metadata": {},
     "outputs": [],
     "prompt_number": 6
    },
    {
     "cell_type": "code",
     "collapsed": false,
     "input": [
      "# CHICAGO BORDER COORDS\n",
      "K = 1\n",
      "ADD_LAT = K/69.10875\n",
      "ADD_LONG = K/55.2428\n",
      "top_left = (str(41.9786), str(-87.9047))\n",
      "top_right = (str(42.022531), str(-87.6653352))\n",
      "bottom_left = (str(41.6566986), str( -87.9070004))\n",
      "bottom_right = (str(41.6375352), str(-87.5383768))\n",
      "location = geolocator.reverse(top_left)\n",
      "print (location.address)"
     ],
     "language": "python",
     "metadata": {},
     "outputs": [
      {
       "output_type": "stream",
       "stream": "stdout",
       "text": [
        "O'Hare Arrivals, Chicago, Cook County, Illinois, 60666, United States of America\n"
       ]
      }
     ],
     "prompt_number": 56
    },
    {
     "cell_type": "code",
     "collapsed": false,
     "input": [],
     "language": "python",
     "metadata": {},
     "outputs": [],
     "prompt_number": 57
    },
    {
     "cell_type": "code",
     "collapsed": false,
     "input": [],
     "language": "python",
     "metadata": {},
     "outputs": [],
     "prompt_number": 47
    },
    {
     "cell_type": "code",
     "collapsed": false,
     "input": [],
     "language": "python",
     "metadata": {},
     "outputs": []
    }
   ],
   "metadata": {}
  }
 ]
}