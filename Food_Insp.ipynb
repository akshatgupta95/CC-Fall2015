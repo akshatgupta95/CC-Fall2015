{
 "metadata": {
  "name": "",
  "signature": "sha256:47b0daaa99384fa32465c29f6f1da35425de78fb888461803e146273d5b91a62"
 },
 "nbformat": 3,
 "nbformat_minor": 0,
 "worksheets": [
  {
   "cells": [
    {
     "cell_type": "code",
     "collapsed": false,
     "input": [
      "import pandas as pd\n",
      "%matplotlib inline\n",
      "import matplotlib.pyplot as plt"
     ],
     "language": "python",
     "metadata": {},
     "outputs": [],
     "prompt_number": 1
    },
    {
     "cell_type": "markdown",
     "metadata": {},
     "source": [
      "## LOAD ##"
     ]
    },
    {
     "cell_type": "code",
     "collapsed": false,
     "input": [
      "df = pd.read_csv('/Users/Akshat/Desktop/Food_Inspections.csv', sep=',')"
     ],
     "language": "python",
     "metadata": {},
     "outputs": [],
     "prompt_number": 2
    },
    {
     "cell_type": "markdown",
     "metadata": {},
     "source": [
      "## CLEANUP ##\n",
      "    * Pass : 1\n",
      "    * Fail : 0\n",
      "    * No Entry : -1\n",
      "    * Risk 3 (Low) : 1\n",
      "    * Risk 2 (Medium) : 2\n",
      "    * Risk 1 (High) : 3\n",
      "Drop rows where no entry is recorded.\n",
      "\n",
      "\n",
      "There are some more values in the Results column which we don't care about, so we ignore the rows that contains any of those values. Look at the cell below to check what values they actually are."
     ]
    },
    {
     "cell_type": "code",
     "collapsed": false,
     "input": [
      "df['Results'] = df['Results'].replace('Pass', 1)\n",
      "df['Results'] = df['Results'].replace('Fail', 0)\n",
      "df['Results'] = df['Results'].replace('No Entry', -1)\n",
      "\n",
      "df['Risk'] = df['Risk'].replace('Risk 3 (Low)', 1)\n",
      "df['Risk'] = df['Risk'].replace('Risk 2 (Medium)', 2)\n",
      "df['Risk'] = df['Risk'].replace('Risk 1 (High)', 3)\n",
      "\n",
      "df = df[df.Results != -1]\n",
      "df = df[df.Results != 'Pass w/ Conditions']\n",
      "df = df[df.Results != 'Out of Business']\n",
      "df = df[df.Results != 'Not Ready']\n",
      "df = df[df.Results != 'Business Not Located']\n",
      "df = df[df.Risk != 'All']"
     ],
     "language": "python",
     "metadata": {},
     "outputs": [],
     "prompt_number": 3
    },
    {
     "cell_type": "markdown",
     "metadata": {},
     "source": [
      "### What is the proportion of restaurants in terms of the Level of Risk (1->Low Risk 2->Medium Risk 3->High Risk) ###"
     ]
    },
    {
     "cell_type": "code",
     "collapsed": false,
     "input": [
      "df2 = df[['Risk']]\n",
      "df2['Counts'] = 1\n",
      "df2.groupby(by='Risk').sum().plot(kind=\"bar\")"
     ],
     "language": "python",
     "metadata": {},
     "outputs": [
      {
       "metadata": {},
       "output_type": "pyout",
       "prompt_number": 27,
       "text": [
        "<matplotlib.axes.AxesSubplot at 0x1111cdfd0>"
       ]
      },
      {
       "metadata": {},
       "output_type": "display_data",
       "png": "[encoded data removed]",
       "text": [
        "<matplotlib.figure.Figure at 0x1111eeb10>"
       ]
      }
     ],
     "prompt_number": 27
    },
    {
     "cell_type": "markdown",
     "metadata": {},
     "source": [
      "We see that there are more number of restaurants which are High Risk. This is expected as in the big city like Chicago, not all restaurants would be able to maintain perfect standards of food quality. "
     ]
    },
    {
     "cell_type": "code",
     "collapsed": false,
     "input": [],
     "language": "python",
     "metadata": {},
     "outputs": [],
     "prompt_number": 0
    },
    {
     "cell_type": "code",
     "collapsed": false,
     "input": [],
     "language": "python",
     "metadata": {},
     "outputs": []
    }
   ],
   "metadata": {}
  }
 ]
}